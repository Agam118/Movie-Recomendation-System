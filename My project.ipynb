{
  "cells": [
    {
      "cell_type": "code",
      "execution_count": 72,
      "metadata": {
        "id": "lUEXIaV8xJwo"
      },
      "outputs": [],
      "source": [
        "import numpy as np\n",
        "import pandas as pd\n",
        "import difflib\n",
        "from sklearn.feature_extraction.text import TfidfVectorizer\n",
        "from sklearn.metrics.pairwise import cosine_similarity\n"
      ]
    },
    {
      "cell_type": "code",
      "execution_count": 73,
      "metadata": {
        "id": "qI7kMlE_xR7k"
      },
      "outputs": [],
      "source": [
        "# loading the data from the csv file to apandas dataframe\n",
        "movies_data = pd.read_csv('/content/Movies.csv')"
      ]
    },
    {
      "cell_type": "code",
      "execution_count": 74,
      "metadata": {
        "colab": {
          "base_uri": "https://localhost:8080/",
          "height": 837
        },
        "id": "_v1AWE91xWFP",
        "outputId": "f067a8bc-93d4-4a80-a4e6-ed3411efcb50"
      },
      "outputs": [
        {
          "output_type": "execute_result",
          "data": {
            "text/plain": [
              "   index     budget                                    genres  \\\n",
              "0      0  237000000  Action Adventure Fantasy Science Fiction   \n",
              "1      1  300000000                  Adventure Fantasy Action   \n",
              "2      2  245000000                    Action Adventure Crime   \n",
              "3      3  250000000               Action Crime Drama Thriller   \n",
              "4      4  260000000          Action Adventure Science Fiction   \n",
              "\n",
              "                                       homepage      id  \\\n",
              "0                   http://www.avatarmovie.com/   19995   \n",
              "1  http://disney.go.com/disneypictures/pirates/     285   \n",
              "2   http://www.sonypictures.com/movies/spectre/  206647   \n",
              "3            http://www.thedarkknightrises.com/   49026   \n",
              "4          http://movies.disney.com/john-carter   49529   \n",
              "\n",
              "                                            keywords original_language  \\\n",
              "0  culture clash future space war space colony so...                en   \n",
              "1  ocean drug abuse exotic island east india trad...                en   \n",
              "2         spy based on novel secret agent sequel mi6                en   \n",
              "3  dc comics crime fighter terrorist secret ident...                en   \n",
              "4  based on novel mars medallion space travel pri...                en   \n",
              "\n",
              "                             original_title  \\\n",
              "0                                    Avatar   \n",
              "1  Pirates of the Caribbean: At World's End   \n",
              "2                                   Spectre   \n",
              "3                     The Dark Knight Rises   \n",
              "4                               John Carter   \n",
              "\n",
              "                                            overview  popularity  ... runtime  \\\n",
              "0  In the 22nd century, a paraplegic Marine is di...  150.437577  ...     162   \n",
              "1  Captain Barbossa, long believed to be dead, ha...  139.082615  ...     169   \n",
              "2  A cryptic message from Bond’s past sends him o...  107.376788  ...     148   \n",
              "3  Following the death of District Attorney Harve...  107.376788  ...     165   \n",
              "4  John Carter is a war-weary, former military ca...   43.926995  ...     132   \n",
              "\n",
              "                                    spoken_languages    status  \\\n",
              "0  [{\"iso_639_1\": \"en\", \"name\": \"English\"}, {\"iso...  Released   \n",
              "1           [{\"iso_639_1\": \"en\", \"name\": \"English\"}]  Released   \n",
              "2  [{\"iso_639_1\": \"fr\", \"name\": \"Fran\\u00e7ais\"},...  Released   \n",
              "3           [{\"iso_639_1\": \"en\", \"name\": \"English\"}]  Released   \n",
              "4           [{\"iso_639_1\": \"en\", \"name\": \"English\"}]  Released   \n",
              "\n",
              "                                          tagline  \\\n",
              "0                     Enter the World of Pandora.   \n",
              "1  At the end of the world, the adventure begins.   \n",
              "2                           A Plan No One Escapes   \n",
              "3                                 The Legend Ends   \n",
              "4            Lost in our world, found in another.   \n",
              "\n",
              "                                      title vote_average vote_count  \\\n",
              "0                                    Avatar          7.2      11800   \n",
              "1  Pirates of the Caribbean: At World's End          6.9       4500   \n",
              "2                                   Spectre          6.3       4466   \n",
              "3                     The Dark Knight Rises          7.6       9106   \n",
              "4                               John Carter          6.1       2124   \n",
              "\n",
              "                                                cast  \\\n",
              "0  Sam Worthington Zoe Saldana Sigourney Weaver S...   \n",
              "1  Johnny Depp Orlando Bloom Keira Knightley Stel...   \n",
              "2  Daniel Craig Christoph Waltz L\\u00e9a Seydoux ...   \n",
              "3  Christian Bale Michael Caine Gary Oldman Anne ...   \n",
              "4  Taylor Kitsch Lynn Collins Samantha Morton Wil...   \n",
              "\n",
              "                                                crew           director  \n",
              "0  [{'name': 'Stephen E. Rivkin', 'gender': 0, 'd...      James Cameron  \n",
              "1  [{'name': 'Dariusz Wolski', 'gender': 2, 'depa...     Gore Verbinski  \n",
              "2  [{'name': 'Thomas Newman', 'gender': 2, 'depar...         Sam Mendes  \n",
              "3  [{'name': 'Hans Zimmer', 'gender': 2, 'departm...  Christopher Nolan  \n",
              "4  [{'name': 'Andrew Stanton', 'gender': 2, 'depa...     Andrew Stanton  \n",
              "\n",
              "[5 rows x 24 columns]"
            ],
            "text/html": [
              "\n",
              "  <div id=\"df-ddcd7ad4-51b8-46ab-a53b-6e6b5ce7b3ce\">\n",
              "    <div class=\"colab-df-container\">\n",
              "      <div>\n",
              "<style scoped>\n",
              "    .dataframe tbody tr th:only-of-type {\n",
              "        vertical-align: middle;\n",
              "    }\n",
              "\n",
              "    .dataframe tbody tr th {\n",
              "        vertical-align: top;\n",
              "    }\n",
              "\n",
              "    .dataframe thead th {\n",
              "        text-align: right;\n",
              "    }\n",
              "</style>\n",
              "<table border=\"1\" class=\"dataframe\">\n",
              "  <thead>\n",
              "    <tr style=\"text-align: right;\">\n",
              "      <th></th>\n",
              "      <th>index</th>\n",
              "      <th>budget</th>\n",
              "      <th>genres</th>\n",
              "      <th>homepage</th>\n",
              "      <th>id</th>\n",
              "      <th>keywords</th>\n",
              "      <th>original_language</th>\n",
              "      <th>original_title</th>\n",
              "      <th>overview</th>\n",
              "      <th>popularity</th>\n",
              "      <th>...</th>\n",
              "      <th>runtime</th>\n",
              "      <th>spoken_languages</th>\n",
              "      <th>status</th>\n",
              "      <th>tagline</th>\n",
              "      <th>title</th>\n",
              "      <th>vote_average</th>\n",
              "      <th>vote_count</th>\n",
              "      <th>cast</th>\n",
              "      <th>crew</th>\n",
              "      <th>director</th>\n",
              "    </tr>\n",
              "  </thead>\n",
              "  <tbody>\n",
              "    <tr>\n",
              "      <th>0</th>\n",
              "      <td>0</td>\n",
              "      <td>237000000</td>\n",
              "      <td>Action Adventure Fantasy Science Fiction</td>\n",
              "      <td>http://www.avatarmovie.com/</td>\n",
              "      <td>19995</td>\n",
              "      <td>culture clash future space war space colony so...</td>\n",
              "      <td>en</td>\n",
              "      <td>Avatar</td>\n",
              "      <td>In the 22nd century, a paraplegic Marine is di...</td>\n",
              "      <td>150.437577</td>\n",
              "      <td>...</td>\n",
              "      <td>162</td>\n",
              "      <td>[{\"iso_639_1\": \"en\", \"name\": \"English\"}, {\"iso...</td>\n",
              "      <td>Released</td>\n",
              "      <td>Enter the World of Pandora.</td>\n",
              "      <td>Avatar</td>\n",
              "      <td>7.2</td>\n",
              "      <td>11800</td>\n",
              "      <td>Sam Worthington Zoe Saldana Sigourney Weaver S...</td>\n",
              "      <td>[{'name': 'Stephen E. Rivkin', 'gender': 0, 'd...</td>\n",
              "      <td>James Cameron</td>\n",
              "    </tr>\n",
              "    <tr>\n",
              "      <th>1</th>\n",
              "      <td>1</td>\n",
              "      <td>300000000</td>\n",
              "      <td>Adventure Fantasy Action</td>\n",
              "      <td>http://disney.go.com/disneypictures/pirates/</td>\n",
              "      <td>285</td>\n",
              "      <td>ocean drug abuse exotic island east india trad...</td>\n",
              "      <td>en</td>\n",
              "      <td>Pirates of the Caribbean: At World's End</td>\n",
              "      <td>Captain Barbossa, long believed to be dead, ha...</td>\n",
              "      <td>139.082615</td>\n",
              "      <td>...</td>\n",
              "      <td>169</td>\n",
              "      <td>[{\"iso_639_1\": \"en\", \"name\": \"English\"}]</td>\n",
              "      <td>Released</td>\n",
              "      <td>At the end of the world, the adventure begins.</td>\n",
              "      <td>Pirates of the Caribbean: At World's End</td>\n",
              "      <td>6.9</td>\n",
              "      <td>4500</td>\n",
              "      <td>Johnny Depp Orlando Bloom Keira Knightley Stel...</td>\n",
              "      <td>[{'name': 'Dariusz Wolski', 'gender': 2, 'depa...</td>\n",
              "      <td>Gore Verbinski</td>\n",
              "    </tr>\n",
              "    <tr>\n",
              "      <th>2</th>\n",
              "      <td>2</td>\n",
              "      <td>245000000</td>\n",
              "      <td>Action Adventure Crime</td>\n",
              "      <td>http://www.sonypictures.com/movies/spectre/</td>\n",
              "      <td>206647</td>\n",
              "      <td>spy based on novel secret agent sequel mi6</td>\n",
              "      <td>en</td>\n",
              "      <td>Spectre</td>\n",
              "      <td>A cryptic message from Bond’s past sends him o...</td>\n",
              "      <td>107.376788</td>\n",
              "      <td>...</td>\n",
              "      <td>148</td>\n",
              "      <td>[{\"iso_639_1\": \"fr\", \"name\": \"Fran\\u00e7ais\"},...</td>\n",
              "      <td>Released</td>\n",
              "      <td>A Plan No One Escapes</td>\n",
              "      <td>Spectre</td>\n",
              "      <td>6.3</td>\n",
              "      <td>4466</td>\n",
              "      <td>Daniel Craig Christoph Waltz L\\u00e9a Seydoux ...</td>\n",
              "      <td>[{'name': 'Thomas Newman', 'gender': 2, 'depar...</td>\n",
              "      <td>Sam Mendes</td>\n",
              "    </tr>\n",
              "    <tr>\n",
              "      <th>3</th>\n",
              "      <td>3</td>\n",
              "      <td>250000000</td>\n",
              "      <td>Action Crime Drama Thriller</td>\n",
              "      <td>http://www.thedarkknightrises.com/</td>\n",
              "      <td>49026</td>\n",
              "      <td>dc comics crime fighter terrorist secret ident...</td>\n",
              "      <td>en</td>\n",
              "      <td>The Dark Knight Rises</td>\n",
              "      <td>Following the death of District Attorney Harve...</td>\n",
              "      <td>107.376788</td>\n",
              "      <td>...</td>\n",
              "      <td>165</td>\n",
              "      <td>[{\"iso_639_1\": \"en\", \"name\": \"English\"}]</td>\n",
              "      <td>Released</td>\n",
              "      <td>The Legend Ends</td>\n",
              "      <td>The Dark Knight Rises</td>\n",
              "      <td>7.6</td>\n",
              "      <td>9106</td>\n",
              "      <td>Christian Bale Michael Caine Gary Oldman Anne ...</td>\n",
              "      <td>[{'name': 'Hans Zimmer', 'gender': 2, 'departm...</td>\n",
              "      <td>Christopher Nolan</td>\n",
              "    </tr>\n",
              "    <tr>\n",
              "      <th>4</th>\n",
              "      <td>4</td>\n",
              "      <td>260000000</td>\n",
              "      <td>Action Adventure Science Fiction</td>\n",
              "      <td>http://movies.disney.com/john-carter</td>\n",
              "      <td>49529</td>\n",
              "      <td>based on novel mars medallion space travel pri...</td>\n",
              "      <td>en</td>\n",
              "      <td>John Carter</td>\n",
              "      <td>John Carter is a war-weary, former military ca...</td>\n",
              "      <td>43.926995</td>\n",
              "      <td>...</td>\n",
              "      <td>132</td>\n",
              "      <td>[{\"iso_639_1\": \"en\", \"name\": \"English\"}]</td>\n",
              "      <td>Released</td>\n",
              "      <td>Lost in our world, found in another.</td>\n",
              "      <td>John Carter</td>\n",
              "      <td>6.1</td>\n",
              "      <td>2124</td>\n",
              "      <td>Taylor Kitsch Lynn Collins Samantha Morton Wil...</td>\n",
              "      <td>[{'name': 'Andrew Stanton', 'gender': 2, 'depa...</td>\n",
              "      <td>Andrew Stanton</td>\n",
              "    </tr>\n",
              "  </tbody>\n",
              "</table>\n",
              "<p>5 rows × 24 columns</p>\n",
              "</div>\n",
              "      <button class=\"colab-df-convert\" onclick=\"convertToInteractive('df-ddcd7ad4-51b8-46ab-a53b-6e6b5ce7b3ce')\"\n",
              "              title=\"Convert this dataframe to an interactive table.\"\n",
              "              style=\"display:none;\">\n",
              "        \n",
              "  <svg xmlns=\"http://www.w3.org/2000/svg\" height=\"24px\"viewBox=\"0 0 24 24\"\n",
              "       width=\"24px\">\n",
              "    <path d=\"M0 0h24v24H0V0z\" fill=\"none\"/>\n",
              "    <path d=\"M18.56 5.44l.94 2.06.94-2.06 2.06-.94-2.06-.94-.94-2.06-.94 2.06-2.06.94zm-11 1L8.5 8.5l.94-2.06 2.06-.94-2.06-.94L8.5 2.5l-.94 2.06-2.06.94zm10 10l.94 2.06.94-2.06 2.06-.94-2.06-.94-.94-2.06-.94 2.06-2.06.94z\"/><path d=\"M17.41 7.96l-1.37-1.37c-.4-.4-.92-.59-1.43-.59-.52 0-1.04.2-1.43.59L10.3 9.45l-7.72 7.72c-.78.78-.78 2.05 0 2.83L4 21.41c.39.39.9.59 1.41.59.51 0 1.02-.2 1.41-.59l7.78-7.78 2.81-2.81c.8-.78.8-2.07 0-2.86zM5.41 20L4 18.59l7.72-7.72 1.47 1.35L5.41 20z\"/>\n",
              "  </svg>\n",
              "      </button>\n",
              "      \n",
              "  <style>\n",
              "    .colab-df-container {\n",
              "      display:flex;\n",
              "      flex-wrap:wrap;\n",
              "      gap: 12px;\n",
              "    }\n",
              "\n",
              "    .colab-df-convert {\n",
              "      background-color: #E8F0FE;\n",
              "      border: none;\n",
              "      border-radius: 50%;\n",
              "      cursor: pointer;\n",
              "      display: none;\n",
              "      fill: #1967D2;\n",
              "      height: 32px;\n",
              "      padding: 0 0 0 0;\n",
              "      width: 32px;\n",
              "    }\n",
              "\n",
              "    .colab-df-convert:hover {\n",
              "      background-color: #E2EBFA;\n",
              "      box-shadow: 0px 1px 2px rgba(60, 64, 67, 0.3), 0px 1px 3px 1px rgba(60, 64, 67, 0.15);\n",
              "      fill: #174EA6;\n",
              "    }\n",
              "\n",
              "    [theme=dark] .colab-df-convert {\n",
              "      background-color: #3B4455;\n",
              "      fill: #D2E3FC;\n",
              "    }\n",
              "\n",
              "    [theme=dark] .colab-df-convert:hover {\n",
              "      background-color: #434B5C;\n",
              "      box-shadow: 0px 1px 3px 1px rgba(0, 0, 0, 0.15);\n",
              "      filter: drop-shadow(0px 1px 2px rgba(0, 0, 0, 0.3));\n",
              "      fill: #FFFFFF;\n",
              "    }\n",
              "  </style>\n",
              "\n",
              "      <script>\n",
              "        const buttonEl =\n",
              "          document.querySelector('#df-ddcd7ad4-51b8-46ab-a53b-6e6b5ce7b3ce button.colab-df-convert');\n",
              "        buttonEl.style.display =\n",
              "          google.colab.kernel.accessAllowed ? 'block' : 'none';\n",
              "\n",
              "        async function convertToInteractive(key) {\n",
              "          const element = document.querySelector('#df-ddcd7ad4-51b8-46ab-a53b-6e6b5ce7b3ce');\n",
              "          const dataTable =\n",
              "            await google.colab.kernel.invokeFunction('convertToInteractive',\n",
              "                                                     [key], {});\n",
              "          if (!dataTable) return;\n",
              "\n",
              "          const docLinkHtml = 'Like what you see? Visit the ' +\n",
              "            '<a target=\"_blank\" href=https://colab.research.google.com/notebooks/data_table.ipynb>data table notebook</a>'\n",
              "            + ' to learn more about interactive tables.';\n",
              "          element.innerHTML = '';\n",
              "          dataTable['output_type'] = 'display_data';\n",
              "          await google.colab.output.renderOutput(dataTable, element);\n",
              "          const docLink = document.createElement('div');\n",
              "          docLink.innerHTML = docLinkHtml;\n",
              "          element.appendChild(docLink);\n",
              "        }\n",
              "      </script>\n",
              "    </div>\n",
              "  </div>\n",
              "  "
            ]
          },
          "metadata": {},
          "execution_count": 74
        }
      ],
      "source": [
        "# printing the first 5 rows of the dataframe\n",
        "movies_data.head()"
      ]
    },
    {
      "cell_type": "code",
      "execution_count": 75,
      "metadata": {
        "colab": {
          "base_uri": "https://localhost:8080/"
        },
        "id": "-_nWWKW68DNt",
        "outputId": "98bca7ec-ffd8-4ada-c34c-d1e6ac5147bd"
      },
      "outputs": [
        {
          "output_type": "execute_result",
          "data": {
            "text/plain": [
              "(96, 24)"
            ]
          },
          "metadata": {},
          "execution_count": 75
        }
      ],
      "source": [
        "# number of rows and columns in the data frame\n",
        "\n",
        "movies_data.shape"
      ]
    },
    {
      "cell_type": "code",
      "execution_count": 76,
      "metadata": {
        "colab": {
          "base_uri": "https://localhost:8080/"
        },
        "id": "e7wsmzU_yXdZ",
        "outputId": "f55ed246-f62c-4273-bfa6-c2514cb32fbe"
      },
      "outputs": [
        {
          "output_type": "stream",
          "name": "stdout",
          "text": [
            "['genres', 'keywords', 'tagline', 'cast', 'director']\n"
          ]
        }
      ],
      "source": [
        "# selecting the relevant features for recommendation\n",
        "\n",
        "selected_features = ['genres','keywords','tagline','cast','director']\n",
        "print(selected_features)"
      ]
    },
    {
      "cell_type": "code",
      "execution_count": 77,
      "metadata": {
        "id": "Zzd-mAs4ya2B"
      },
      "outputs": [],
      "source": [
        "# replacing the null valuess with null string\n",
        "\n",
        "for feature in selected_features:\n",
        "  movies_data[feature] = movies_data[feature].fillna('')"
      ]
    },
    {
      "cell_type": "code",
      "execution_count": 78,
      "metadata": {
        "id": "NePyqESxyerQ"
      },
      "outputs": [],
      "source": [
        "# combining all the 5 selected features\n",
        "\n",
        "combined_features = movies_data['genres']+' '+movies_data['keywords']+' '+movies_data['tagline']+' '+movies_data['cast']+' '+movies_data['director']"
      ]
    },
    {
      "cell_type": "code",
      "execution_count": 79,
      "metadata": {
        "colab": {
          "base_uri": "https://localhost:8080/"
        },
        "id": "xCe8ye4b8Ivy",
        "outputId": "120ff456-f90f-46d6-ab4b-19f82e4098e0"
      },
      "outputs": [
        {
          "output_type": "stream",
          "name": "stdout",
          "text": [
            "0     Action Adventure Fantasy Science Fiction cultu...\n",
            "1     Adventure Fantasy Action ocean drug abuse exot...\n",
            "2     Action Adventure Crime spy based on novel secr...\n",
            "3     Action Crime Drama Thriller dc comics crime fi...\n",
            "4     Action Adventure Science Fiction based on nove...\n",
            "                            ...                        \n",
            "91    Fantasy Adventure Animation Family flying blac...\n",
            "92    Action Thriller Science Fiction saving the wor...\n",
            "93    Action Science Fiction Adventure marvel comic ...\n",
            "94    Adventure Drama Science Fiction saving the wor...\n",
            "95    Action Thriller Science Fiction Mystery Advent...\n",
            "Length: 96, dtype: object\n"
          ]
        }
      ],
      "source": [
        "print(combined_features)"
      ]
    },
    {
      "cell_type": "code",
      "execution_count": 80,
      "metadata": {
        "id": "rJFRT1TUykuq"
      },
      "outputs": [],
      "source": [
        "# converting the text data to feature vectors\n",
        "\n",
        "vectorizer = TfidfVectorizer()"
      ]
    },
    {
      "cell_type": "code",
      "execution_count": 81,
      "metadata": {
        "id": "Az-jeLqByn3R"
      },
      "outputs": [],
      "source": [
        "feature_vectors = vectorizer.fit_transform(combined_features)"
      ]
    },
    {
      "cell_type": "code",
      "execution_count": 82,
      "metadata": {
        "colab": {
          "base_uri": "https://localhost:8080/"
        },
        "id": "l2Jhf0dRyrB3",
        "outputId": "38d21c55-e9bc-4d42-d72a-84b688378592"
      },
      "outputs": [
        {
          "output_type": "stream",
          "name": "stdout",
          "text": [
            "  (0, 186)\t0.19286328104479727\n",
            "  (0, 576)\t0.13858996237090185\n",
            "  (0, 977)\t0.20611012668105544\n",
            "  (0, 772)\t0.19286328104479727\n",
            "  (0, 668)\t0.2247805069804668\n",
            "  (0, 1103)\t0.20611012668105544\n",
            "  (0, 1249)\t0.2247805069804668\n",
            "  (0, 1061)\t0.2247805069804668\n",
            "  (0, 999)\t0.1825882293052377\n",
            "  (0, 1304)\t0.1825882293052377\n",
            "  (0, 1286)\t0.20611012668105544\n",
            "  (0, 1001)\t0.1462822723350908\n",
            "  (0, 870)\t0.2247805069804668\n",
            "  (0, 843)\t0.12623725790829557\n",
            "  (0, 1283)\t0.13517752565154037\n",
            "  (0, 1152)\t0.0856995351226418\n",
            "  (0, 375)\t0.2247805069804668\n",
            "  (0, 1078)\t0.2247805069804668\n",
            "  (0, 242)\t0.20611012668105544\n",
            "  (0, 1233)\t0.1741929007453859\n",
            "  (0, 1087)\t0.33418950317441976\n",
            "  (0, 442)\t0.1741929007453859\n",
            "  (0, 234)\t0.2247805069804668\n",
            "  (0, 270)\t0.2247805069804668\n",
            "  (0, 411)\t0.08458991941645946\n",
            "  :\t:\n",
            "  (95, 713)\t0.21007727366156853\n",
            "  (95, 809)\t0.19262815120778817\n",
            "  (95, 333)\t0.19262815120778817\n",
            "  (95, 686)\t0.19262815120778817\n",
            "  (95, 472)\t0.19262815120778817\n",
            "  (95, 611)\t0.18024780180265673\n",
            "  (95, 1295)\t0.16279867934887637\n",
            "  (95, 779)\t0.19262815120778817\n",
            "  (95, 312)\t0.18024780180265673\n",
            "  (95, 683)\t0.18024780180265673\n",
            "  (95, 710)\t0.19262815120778817\n",
            "  (95, 636)\t0.17064485675562108\n",
            "  (95, 567)\t0.1367137274045094\n",
            "  (95, 834)\t0.17064485675562108\n",
            "  (95, 223)\t0.16279867934887637\n",
            "  (95, 497)\t0.19262815120778817\n",
            "  (95, 1171)\t0.150418329943745\n",
            "  (95, 1161)\t0.12058885808483319\n",
            "  (95, 264)\t0.150418329943745\n",
            "  (95, 843)\t0.23595977544611144\n",
            "  (95, 1152)\t0.16018759753213754\n",
            "  (95, 411)\t0.07905676470338158\n",
            "  (95, 1021)\t0.07905676470338158\n",
            "  (95, 13)\t0.05186829508798157\n",
            "  (95, 7)\t0.05895850872007124\n"
          ]
        }
      ],
      "source": [
        "print(feature_vectors)"
      ]
    },
    {
      "cell_type": "code",
      "execution_count": 83,
      "metadata": {
        "id": "-vOYOSTRyxfg"
      },
      "outputs": [],
      "source": [
        "# getting the similarity scores using cosine similarity\n",
        "\n",
        "similarity = cosine_similarity(feature_vectors)"
      ]
    },
    {
      "cell_type": "code",
      "execution_count": 84,
      "metadata": {
        "colab": {
          "base_uri": "https://localhost:8080/"
        },
        "id": "tzavtasLy0WA",
        "outputId": "a252fb5c-83b9-433c-dbe6-ef9a08b51fa8"
      },
      "outputs": [
        {
          "output_type": "stream",
          "name": "stdout",
          "text": [
            "[[1.         0.07833265 0.02986133 ... 0.22128066 0.03566898 0.06348774]\n",
            " [0.07833265 1.         0.03247943 ... 0.00880112 0.03309463 0.09466697]\n",
            " [0.02986133 0.03247943 1.         ... 0.00748714 0.01195948 0.03232607]\n",
            " ...\n",
            " [0.22128066 0.00880112 0.00748714 ... 1.         0.01457759 0.02018659]\n",
            " [0.03566898 0.03309463 0.01195948 ... 0.01457759 1.         0.07422476]\n",
            " [0.06348774 0.09466697 0.03232607 ... 0.02018659 0.07422476 1.        ]]\n"
          ]
        }
      ],
      "source": [
        "print(similarity)"
      ]
    },
    {
      "cell_type": "code",
      "execution_count": 85,
      "metadata": {
        "colab": {
          "base_uri": "https://localhost:8080/"
        },
        "id": "sVHDk0PZy3sh",
        "outputId": "88563b51-d821-46e6-eaeb-8d2e21e066a3"
      },
      "outputs": [
        {
          "output_type": "stream",
          "name": "stdout",
          "text": [
            "(96, 96)\n"
          ]
        }
      ],
      "source": [
        "print(similarity.shape)"
      ]
    },
    {
      "cell_type": "code",
      "execution_count": 86,
      "metadata": {
        "colab": {
          "base_uri": "https://localhost:8080/"
        },
        "id": "iNSa2EVay7fz",
        "outputId": "fb82fa00-6359-46db-b9b7-ba7eee505719"
      },
      "outputs": [
        {
          "name": "stdout",
          "output_type": "stream",
          "text": [
            " Enter your favourite movie name : Iron Man 3\n"
          ]
        }
      ],
      "source": [
        "# getting the movie name from the user\n",
        "\n",
        "movie_name = input(' Enter your favourite movie name : ')"
      ]
    },
    {
      "cell_type": "code",
      "execution_count": 87,
      "metadata": {
        "colab": {
          "base_uri": "https://localhost:8080/"
        },
        "id": "pbMjVcGqy-tI",
        "outputId": "482056bd-682d-466d-bb02-f9f773dd2a41"
      },
      "outputs": [
        {
          "output_type": "stream",
          "name": "stdout",
          "text": [
            "['Avatar', \"Pirates of the Caribbean: At World's End\", 'Spectre', 'The Dark Knight Rises', 'John Carter', 'Spider-Man 3', 'Tangled', 'Avengers: Age of Ultron', 'Harry Potter and the Half-Blood Prince', 'Batman v Superman: Dawn of Justice', 'Superman Returns', 'Quantum of Solace', \"Pirates of the Caribbean: Dead Man's Chest\", 'The Lone Ranger', 'Man of Steel', 'The Chronicles of Narnia: Prince Caspian', 'The Avengers', 'Pirates of the Caribbean: On Stranger Tides', 'Men in Black 3', 'The Hobbit: The Battle of the Five Armies', 'The Amazing Spider-Man', 'Robin Hood', 'The Hobbit: The Desolation of Smaug', 'The Golden Compass', 'King Kong', 'Titanic', 'Captain America: Civil War', 'Battleship', 'Skyfall', 'Spider-Man 2', 'Iron Man 3', 'Alice in Wonderland', 'X-Men: The Last Stand', 'Monsters University', 'Transformers: Revenge of the Fallen', 'Transformers: Age of Extinction', 'Oz: The Great and Powerful', 'The Amazing Spider-Man 2', 'TRON: Legacy', 'Cars 2', 'Green Lantern', 'Toy Story 3', 'Terminator Salvation', 'Furious 7', 'World War Z', 'X-Men: Days of Future Past', 'Star Trek Into Darkness', 'Jack the Giant Slayer', 'The Great Gatsby', 'Prince of Persia: The Sands of Time', 'Pacific Rim', 'Transformers: Dark of the Moon', 'Indiana Jones and the Kingdom of the Crystal Skull', 'The Good Dinosaur', 'Brave', 'Star Trek Beyond', 'WALL·E', 'Rush Hour 3', '2012', 'A Christmas Carol', 'Jupiter Ascending', 'The Legend of Tarzan', 'The Chronicles of Narnia: The Lion, the Witch and the Wardrobe', 'X-Men: Apocalypse', 'The Dark Knight', 'Up', 'Monsters vs Aliens', 'Iron Man', 'Hugo', 'Wild Wild West', 'The Mummy: Tomb of the Dragon Emperor', 'Suicide Squad', 'Evan Almighty', 'Edge of Tomorrow', 'Waterworld', 'G.I. Joe: The Rise of Cobra', 'Inside Out', 'The Jungle Book', 'Iron Man 2', 'Snow White and the Huntsman', 'Maleficent', 'Dawn of the Planet of the Apes', 'The Lovers', '47 Ronin', 'Captain America: The Winter Soldier', 'Shrek Forever After', 'Tomorrowland', 'Big Hero 6', 'Wreck-It Ralph', 'The Polar Express', 'Independence Day: Resurgence', 'How to Train Your Dragon', 'Terminator 3: Rise of the Machines', 'Guardians of the Galaxy', 'Interstellar', 'Inception']\n"
          ]
        }
      ],
      "source": [
        "# creating a list with all the movie names given in the dataset\n",
        "\n",
        "list_of_all_titles = movies_data['title'].tolist()\n",
        "print(list_of_all_titles)"
      ]
    },
    {
      "cell_type": "code",
      "execution_count": 88,
      "metadata": {
        "colab": {
          "base_uri": "https://localhost:8080/"
        },
        "id": "Zh6XTxZXAPTd",
        "outputId": "aec5229c-cbc1-4231-e738-409de36ab487"
      },
      "outputs": [
        {
          "output_type": "stream",
          "name": "stdout",
          "text": [
            "['Iron Man 3', 'Iron Man 2', 'Iron Man']\n"
          ]
        }
      ],
      "source": [
        "# finding the close match for the movie name given by the user\n",
        "\n",
        "find_close_match = difflib.get_close_matches(movie_name, list_of_all_titles)\n",
        "print(find_close_match)"
      ]
    },
    {
      "cell_type": "code",
      "source": [
        "close_match = find_close_match[0]\n",
        "print(close_match)"
      ],
      "metadata": {
        "colab": {
          "base_uri": "https://localhost:8080/"
        },
        "id": "lgalVhhfwLIn",
        "outputId": "6e304064-35e7-458d-adae-21b820c97bd2"
      },
      "execution_count": 89,
      "outputs": [
        {
          "output_type": "stream",
          "name": "stdout",
          "text": [
            "Iron Man 3\n"
          ]
        }
      ]
    },
    {
      "cell_type": "code",
      "source": [
        "# finding the index of the movie with title\n",
        "\n",
        "index_of_the_movie = movies_data[movies_data.title == close_match]['index'].values[0]\n",
        "print(index_of_the_movie)"
      ],
      "metadata": {
        "colab": {
          "base_uri": "https://localhost:8080/"
        },
        "id": "vUrXsSlGwR-5",
        "outputId": "f863a5a7-ab39-4acb-8673-51c915c69cfa"
      },
      "execution_count": 90,
      "outputs": [
        {
          "output_type": "stream",
          "name": "stdout",
          "text": [
            "31\n"
          ]
        }
      ]
    },
    {
      "cell_type": "code",
      "source": [
        "# getting a list of similar movies\n",
        "\n",
        "similarity_score = list(enumerate(similarity[index_of_the_movie]))\n",
        "print(similarity_score)"
      ],
      "metadata": {
        "colab": {
          "base_uri": "https://localhost:8080/"
        },
        "id": "vXhrEDkkwWur",
        "outputId": "acf0159c-66de-41b2-994b-76fa3c15dae7"
      },
      "execution_count": 91,
      "outputs": [
        {
          "output_type": "stream",
          "name": "stdout",
          "text": [
            "[(0, 0.01913394232648638), (1, 0.06663144744190379), (2, 0.04906565588283801), (3, 0.07227296785546955), (4, 0.08448870404946178), (5, 0.019939253323283977), (6, 0.07012483412518958), (7, 0.027295469470052014), (8, 0.03069166073852641), (9, 0.04283488994811792), (10, 0.022307171045349725), (11, 0.0023306585893042193), (12, 0.0787342824025054), (13, 0.16125614660092263), (14, 0.07432401233409537), (15, 0.14449469925198977), (16, 0.02629923428880274), (17, 0.0723431156734935), (18, 0.04917194123364781), (19, 0.017354892850379323), (20, 0.01962030992470201), (21, 0.002310113289926264), (22, 0.018182517396542728), (23, 0.01654867842105231), (24, 0.0023326896204080047), (25, 0.009397233112264506), (26, 0.0029393760459229144), (27, 0.002689925036944037), (28, 0.012972820686400842), (29, 0.04078294057792885), (30, 0.012658123583836433), (31, 1.0), (32, 0.026064451022668703), (33, 0.009902740061187342), (34, 0.003050130652140327), (35, 0.002828198227520585), (36, 0.052237654246821696), (37, 0.04380180755573995), (38, 0.0026583337911728466), (39, 0.012847204888799441), (40, 0.05573928143556555), (41, 0.042544323197962836), (42, 0.0), (43, 0.0), (44, 0.0), (45, 0.0612755659366493), (46, 0.003289075919142399), (47, 0.05621066072725312), (48, 0.05551365375880685), (49, 0.018843693412345267), (50, 0.021398737903292258), (51, 0.0026189817461121094), (52, 0.005873419488402493), (53, 0.011843852089544228), (54, 0.013223132471262878), (55, 0.0033716438786082718), (56, 0.01513220190188709), (57, 0.01116500624837706), (58, 0.002672575547031709), (59, 0.044534705959150524), (60, 0.019119404716111257), (61, 0.00286023949337372), (62, 0.06977987015792655), (63, 0.02266602305658485), (64, 0.0), (65, 0.033112711001367465), (66, 0.012822675182171383), (67, 0.036508402900583645), (68, 0.04877629734923402), (69, 0.02364357222028896), (70, 0.023157993666357228), (71, 0.0186406400800777), (72, 0.023989486355409914), (73, 0.0), (74, 0.024496156049872955), (75, 0.0027301847847143322), (76, 0.019229755126962334), (77, 0.08433285529400818), (78, 0.023237557281803475), (79, 0.06269766711218261), (80, 0.054637159494677345), (81, 0.0), (82, 0.04528297857515809), (83, 0.03406669803338319), (84, 0.028722317990109027), (85, 0.024959137209245825), (86, 0.012415165521848412), (87, 0.011986321803912351), (88, 0.01111340401014392), (89, 0.029818383097638197), (90, 0.024299758479340086), (91, 0.031908611651137155), (92, 0.0), (93, 0.0028537368776551915), (94, 0.08539489728162121), (95, 0.002638826988566038)]\n"
          ]
        }
      ]
    },
    {
      "cell_type": "code",
      "source": [
        "len(similarity_score)"
      ],
      "metadata": {
        "colab": {
          "base_uri": "https://localhost:8080/"
        },
        "id": "blAgSk6QweIJ",
        "outputId": "b8e481f2-3b22-4456-d6ed-92df6721435b"
      },
      "execution_count": 92,
      "outputs": [
        {
          "output_type": "execute_result",
          "data": {
            "text/plain": [
              "96"
            ]
          },
          "metadata": {},
          "execution_count": 92
        }
      ]
    },
    {
      "cell_type": "code",
      "source": [
        "# sorting the movies based on their similarity score\n",
        "\n",
        "sorted_similar_movies = sorted(similarity_score, key = lambda x:x[1], reverse = True) \n",
        "print(sorted_similar_movies)"
      ],
      "metadata": {
        "colab": {
          "base_uri": "https://localhost:8080/"
        },
        "id": "4A23L6xPwi53",
        "outputId": "aeb06ab4-4e91-4ebf-e529-f03b32797667"
      },
      "execution_count": 93,
      "outputs": [
        {
          "output_type": "stream",
          "name": "stdout",
          "text": [
            "[(31, 1.0), (13, 0.16125614660092263), (15, 0.14449469925198977), (94, 0.08539489728162121), (4, 0.08448870404946178), (77, 0.08433285529400818), (12, 0.0787342824025054), (14, 0.07432401233409537), (17, 0.0723431156734935), (3, 0.07227296785546955), (6, 0.07012483412518958), (62, 0.06977987015792655), (1, 0.06663144744190379), (79, 0.06269766711218261), (45, 0.0612755659366493), (47, 0.05621066072725312), (40, 0.05573928143556555), (48, 0.05551365375880685), (80, 0.054637159494677345), (36, 0.052237654246821696), (18, 0.04917194123364781), (2, 0.04906565588283801), (68, 0.04877629734923402), (82, 0.04528297857515809), (59, 0.044534705959150524), (37, 0.04380180755573995), (9, 0.04283488994811792), (41, 0.042544323197962836), (29, 0.04078294057792885), (67, 0.036508402900583645), (83, 0.03406669803338319), (65, 0.033112711001367465), (91, 0.031908611651137155), (8, 0.03069166073852641), (89, 0.029818383097638197), (84, 0.028722317990109027), (7, 0.027295469470052014), (16, 0.02629923428880274), (32, 0.026064451022668703), (85, 0.024959137209245825), (74, 0.024496156049872955), (90, 0.024299758479340086), (72, 0.023989486355409914), (69, 0.02364357222028896), (78, 0.023237557281803475), (70, 0.023157993666357228), (63, 0.02266602305658485), (10, 0.022307171045349725), (50, 0.021398737903292258), (5, 0.019939253323283977), (20, 0.01962030992470201), (76, 0.019229755126962334), (0, 0.01913394232648638), (60, 0.019119404716111257), (49, 0.018843693412345267), (71, 0.0186406400800777), (22, 0.018182517396542728), (19, 0.017354892850379323), (23, 0.01654867842105231), (56, 0.01513220190188709), (54, 0.013223132471262878), (28, 0.012972820686400842), (39, 0.012847204888799441), (66, 0.012822675182171383), (30, 0.012658123583836433), (86, 0.012415165521848412), (87, 0.011986321803912351), (53, 0.011843852089544228), (57, 0.01116500624837706), (88, 0.01111340401014392), (33, 0.009902740061187342), (25, 0.009397233112264506), (52, 0.005873419488402493), (55, 0.0033716438786082718), (46, 0.003289075919142399), (34, 0.003050130652140327), (26, 0.0029393760459229144), (61, 0.00286023949337372), (93, 0.0028537368776551915), (35, 0.002828198227520585), (75, 0.0027301847847143322), (27, 0.002689925036944037), (58, 0.002672575547031709), (38, 0.0026583337911728466), (95, 0.002638826988566038), (51, 0.0026189817461121094), (24, 0.0023326896204080047), (11, 0.0023306585893042193), (21, 0.002310113289926264), (42, 0.0), (43, 0.0), (44, 0.0), (64, 0.0), (73, 0.0), (81, 0.0), (92, 0.0)]\n"
          ]
        }
      ]
    },
    {
      "cell_type": "code",
      "source": [
        "# print the name of similar movies based on the index\n",
        "\n",
        "print('Movies suggested for you : \\n')\n",
        "\n",
        "i = 1\n",
        "\n",
        "for movie in sorted_similar_movies:\n",
        "  index = movie[0]\n",
        "  title_from_index = movies_data[movies_data.index==index]['title'].values[0]\n",
        "  if (i<30):\n",
        "    print(i, '.',title_from_index)\n",
        "    i+=1"
      ],
      "metadata": {
        "colab": {
          "base_uri": "https://localhost:8080/"
        },
        "id": "0g4K5DGpwqJ1",
        "outputId": "5ed73c20-e1e5-46ee-afde-d42e15d75f75"
      },
      "execution_count": 94,
      "outputs": [
        {
          "output_type": "stream",
          "name": "stdout",
          "text": [
            "Movies suggested for you : \n",
            "\n",
            "1 . Alice in Wonderland\n",
            "2 . The Lone Ranger\n",
            "3 . The Chronicles of Narnia: Prince Caspian\n",
            "4 . Interstellar\n",
            "5 . John Carter\n",
            "6 . The Jungle Book\n",
            "7 . Pirates of the Caribbean: Dead Man's Chest\n",
            "8 . Man of Steel\n",
            "9 . Pirates of the Caribbean: On Stranger Tides\n",
            "10 . The Dark Knight Rises\n",
            "11 . Tangled\n",
            "12 . The Chronicles of Narnia: The Lion, the Witch and the Wardrobe\n",
            "13 . Pirates of the Caribbean: At World's End\n",
            "14 . Snow White and the Huntsman\n",
            "15 . X-Men: Days of Future Past\n",
            "16 . Jack the Giant Slayer\n",
            "17 . Green Lantern\n",
            "18 . The Great Gatsby\n",
            "19 . Maleficent\n",
            "20 . Oz: The Great and Powerful\n",
            "21 . Men in Black 3\n",
            "22 . Spectre\n",
            "23 . Hugo\n",
            "24 . The Lovers\n",
            "25 . A Christmas Carol\n",
            "26 . The Amazing Spider-Man 2\n",
            "27 . Batman v Superman: Dawn of Justice\n",
            "28 . Toy Story 3\n",
            "29 . Spider-Man 2\n"
          ]
        }
      ]
    },
    {
      "cell_type": "code",
      "source": [
        "movie_name = input(' Enter your favourite movie name : ')\n",
        "\n",
        "list_of_all_titles = movies_data['title'].tolist()\n",
        "\n",
        "find_close_match = difflib.get_close_matches(movie_name, list_of_all_titles)\n",
        "\n",
        "close_match = find_close_match[0]\n",
        "\n",
        "index_of_the_movie = movies_data[movies_data.title == close_match]['index'].values[0]\n",
        "\n",
        "similarity_score = list(enumerate(similarity[index_of_the_movie]))\n",
        "\n",
        "sorted_similar_movies = sorted(similarity_score, key = lambda x:x[1], reverse = True) \n",
        "\n",
        "print('Movies suggested for you : \\n')\n",
        "\n",
        "i = 1\n",
        "\n",
        "for movie in sorted_similar_movies:\n",
        "  index = movie[0]\n",
        "  title_from_index = movies_data[movies_data.index==index]['title'].values[0]\n",
        "  if (i<30):\n",
        "    print(i, '.',title_from_index)\n",
        "    i+=1"
      ],
      "metadata": {
        "colab": {
          "base_uri": "https://localhost:8080/"
        },
        "id": "H5kuA4z0wxXA",
        "outputId": "f9875c1b-a2ca-4580-ff64-bd24d0525f25"
      },
      "execution_count": 95,
      "outputs": [
        {
          "output_type": "stream",
          "name": "stdout",
          "text": [
            " Enter your favourite movie name : Iron Man\n",
            "Movies suggested for you : \n",
            "\n",
            "1 . Hugo\n",
            "2 . King Kong\n",
            "3 . The Jungle Book\n",
            "4 . Spider-Man 3\n",
            "5 . Indiana Jones and the Kingdom of the Crystal Skull\n",
            "6 . Pirates of the Caribbean: At World's End\n",
            "7 . WALL·E\n",
            "8 . Spider-Man 2\n",
            "9 . Men in Black 3\n",
            "10 . Toy Story 3\n",
            "11 . Inception\n",
            "12 . The Hobbit: The Battle of the Five Armies\n",
            "13 . Prince of Persia: The Sands of Time\n",
            "14 . The Hobbit: The Desolation of Smaug\n",
            "15 . Green Lantern\n",
            "16 . X-Men: Days of Future Past\n",
            "17 . Man of Steel\n",
            "18 . Alice in Wonderland\n",
            "19 . The Mummy: Tomb of the Dragon Emperor\n",
            "20 . The Great Gatsby\n",
            "21 . The Chronicles of Narnia: Prince Caspian\n",
            "22 . Big Hero 6\n",
            "23 . Harry Potter and the Half-Blood Prince\n",
            "24 . How to Train Your Dragon\n",
            "25 . Jupiter Ascending\n",
            "26 . Wreck-It Ralph\n",
            "27 . Transformers: Dark of the Moon\n",
            "28 . The Golden Compass\n",
            "29 . Batman v Superman: Dawn of Justice\n"
          ]
        }
      ]
    }
  ],
  "metadata": {
    "colab": {
      "collapsed_sections": [],
      "provenance": []
    },
    "kernelspec": {
      "display_name": "Python 3",
      "name": "python3"
    },
    "language_info": {
      "name": "python"
    }
  },
  "nbformat": 4,
  "nbformat_minor": 0
}